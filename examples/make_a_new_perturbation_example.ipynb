{
 "cells": [
  {
   "cell_type": "markdown",
   "metadata": {},
   "source": [
    "## Overview\n",
    "This example shows how to make a new perturbation\n",
    "Each perturbation should inherit from the \"Perturbation\" class, \n",
    "and define three methods:\n",
    "- `__init__`:\n",
    "- `_infer_transformation`\n",
    "    - This infers a 'transformation' based on the load profiles, and which can be used by the `_apply_perturbation` method. \n",
    "    - HOWEVER, it is also possible to set your own transformation. Therefore this is split from _infer_transformation\n",
    "- `_apply_perturbation`: \n",
    "    - Using an inferred or given transformation, it applies the transformation specific for this method\n",
    "\n",
    "We are going to construct a class that multiplies each column by the column index (which doesn't make any sense, is just for demonstration purposes)"
   ]
  },
  {
   "cell_type": "code",
   "execution_count": 4,
   "metadata": {},
   "outputs": [],
   "source": [
    "import noisy_load_profiles as nolp\n",
    "import numpy as np"
   ]
  },
  {
   "cell_type": "code",
   "execution_count": 16,
   "metadata": {},
   "outputs": [],
   "source": [
    "class ColumnIndexMultiplier(nolp.Perturbation):\n",
    "    \"\"\" A perturbation that multiplies the values in each column by the index of that column.\n",
    "    optinally, the index number is scaled by a multiplier factor.\n",
    "    \"\"\"\n",
    "    def __init__(self, multiplier=1, **kwargs):\n",
    "        super().__init__(**kwargs)\n",
    "        self.multiplier = multiplier\n",
    "\n",
    "    def _infer_transformation(self, profiles):\n",
    "        t_steps, n_cols = profiles.shape\n",
    "\n",
    "        multipliers = [i*self.multiplier for i in range(n_cols)]\n",
    "\n",
    "        transformation = {\"column_multipliers\": multipliers}\n",
    "        return transformation\n",
    "    \n",
    "    def _apply_perturbation(self, profiles):\n",
    "        t_steps, n_cols = profiles.shape\n",
    "        multipliers = self._transformation[\"column_multipliers\"]\n",
    "\n",
    "        for i in range(n_cols):\n",
    "            profiles[:, i] *= multipliers[i]\n",
    "\n",
    "        return profiles"
   ]
  },
  {
   "cell_type": "code",
   "execution_count": 25,
   "metadata": {},
   "outputs": [
    {
     "data": {
      "text/plain": [
       "array([[ 0.,  2.,  4.,  6.,  8., 10., 12., 14., 16., 18.],\n",
       "       [ 0.,  2.,  4.,  6.,  8., 10., 12., 14., 16., 18.],\n",
       "       [ 0.,  2.,  4.,  6.,  8., 10., 12., 14., 16., 18.],\n",
       "       [ 0.,  2.,  4.,  6.,  8., 10., 12., 14., 16., 18.],\n",
       "       [ 0.,  2.,  4.,  6.,  8., 10., 12., 14., 16., 18.]])"
      ]
     },
     "execution_count": 25,
     "metadata": {},
     "output_type": "execute_result"
    }
   ],
   "source": [
    "profiles = np.ones((5, 10))\n",
    "\n",
    "colmulp = ColumnIndexMultiplier(multiplier=2)\n",
    "\n",
    "pipeline = nolp.Pipeline([colmulp])\n",
    "\n",
    "pipeline.perturb(profiles)"
   ]
  },
  {
   "cell_type": "code",
   "execution_count": null,
   "metadata": {},
   "outputs": [],
   "source": []
  },
  {
   "cell_type": "code",
   "execution_count": null,
   "metadata": {},
   "outputs": [],
   "source": []
  }
 ],
 "metadata": {
  "kernelspec": {
   "display_name": ".venv",
   "language": "python",
   "name": "python3"
  },
  "language_info": {
   "codemirror_mode": {
    "name": "ipython",
    "version": 3
   },
   "file_extension": ".py",
   "mimetype": "text/x-python",
   "name": "python",
   "nbconvert_exporter": "python",
   "pygments_lexer": "ipython3",
   "version": "3.12.3"
  }
 },
 "nbformat": 4,
 "nbformat_minor": 2
}
