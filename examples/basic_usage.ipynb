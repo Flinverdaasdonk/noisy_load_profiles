{
 "cells": [
  {
   "cell_type": "code",
   "execution_count": 3,
   "metadata": {},
   "outputs": [],
   "source": [
    "import noisy_load_profiles as nolp\n",
    "from noisy_load_profiles import Pipeline\n",
    "from noisy_load_profiles.perturbations import MultiplicativeGaussianNoise, ZeroMeasurements\n",
    "import numpy as np"
   ]
  },
  {
   "cell_type": "code",
   "execution_count": 4,
   "metadata": {},
   "outputs": [
    {
     "name": "stdout",
     "output_type": "stream",
     "text": [
      "All available perturbations:\n",
      "['AdditiveOUNoise', 'ConstantRandomPercentualBias', 'ConstantRandomPercentualScaling', 'DiscreteTimeShift', 'MultiplicativeGaussianNoise', 'PercentualDeadBand', 'ZeroMeasurements', '__all__', '__builtins__', '__cached__', '__doc__', '__file__', '__loader__', '__name__', '__package__', '__path__', '__spec__', 'measurement', 'random', 'systematic']\n"
     ]
    }
   ],
   "source": [
    "print(\"All available perturbations:\")\n",
    "print(dir(nolp.perturbations))"
   ]
  },
  {
   "cell_type": "code",
   "execution_count": 5,
   "metadata": {},
   "outputs": [
    {
     "name": "stdout",
     "output_type": "stream",
     "text": [
      "Original Profiles:\n",
      " [[1. 1.]\n",
      " [1. 1.]\n",
      " [1. 1.]\n",
      " [1. 1.]\n",
      " [1. 1.]\n",
      " [1. 1.]\n",
      " [1. 1.]\n",
      " [1. 1.]\n",
      " [1. 1.]\n",
      " [1. 1.]]\n",
      "Perturbed Profiles:\n",
      " [[1.00496714 0.99861736]\n",
      " [1.00647689 1.0152303 ]\n",
      " [0.99765847 0.99765863]\n",
      " [1.01579213 1.00767435]\n",
      " [0.99530526 1.0054256 ]\n",
      " [0.99536582 0.9953427 ]\n",
      " [1.00241962 0.9808672 ]\n",
      " [0.98275082 0.99437712]\n",
      " [0.98987169 1.00314247]\n",
      " [0.99091976 0.98587696]]\n",
      "Transformation Parameters:\n",
      " {MultiplicativeGaussianNoise(mean=0.0, std=0.01): {'noise_samples': array([[ 0.00496714, -0.00138264],\n",
      "       [ 0.00647689,  0.0152303 ],\n",
      "       [-0.00234153, -0.00234137],\n",
      "       [ 0.01579213,  0.00767435],\n",
      "       [-0.00469474,  0.0054256 ],\n",
      "       [-0.00463418, -0.0046573 ],\n",
      "       [ 0.00241962, -0.0191328 ],\n",
      "       [-0.01724918, -0.00562288],\n",
      "       [-0.01012831,  0.00314247],\n",
      "       [-0.00908024, -0.01412304]]), 'mean': 0.0, 'std': 0.01, 'shape': (10, 2)}}\n"
     ]
    }
   ],
   "source": [
    "\n",
    "timesteps = 10\n",
    "n_profiles = 2\n",
    "profiles = np.ones((timesteps, n_profiles)) # 2 profiles with 10 timesteps each; example\n",
    "\n",
    "gaussian_noise = MultiplicativeGaussianNoise(mean=0.0, std=0.01, seed=42)\n",
    "pipeline = Pipeline([gaussian_noise])\n",
    "\n",
    "perturbed_profiles = pipeline.perturb(profiles)\n",
    "print(\"Original Profiles:\\n\", profiles)\n",
    "print(\"Perturbed Profiles:\\n\", perturbed_profiles)\n",
    "\n",
    "print(\"Transformation Parameters:\\n\", pipeline.get_transformations())"
   ]
  },
  {
   "cell_type": "code",
   "execution_count": 7,
   "metadata": {},
   "outputs": [],
   "source": [
    "pert = ZeroMeasurements(f_zero=0.05, k_max=10, tail_eps=0.1, seed=42)\n"
   ]
  },
  {
   "cell_type": "code",
   "execution_count": 8,
   "metadata": {},
   "outputs": [
    {
     "name": "stdout",
     "output_type": "stream",
     "text": [
      "Original Profiles:\n",
      " [[1. 1.]\n",
      " [1. 1.]\n",
      " [1. 1.]\n",
      " [1. 1.]\n",
      " [1. 1.]\n",
      " [1. 1.]\n",
      " [1. 1.]\n",
      " [1. 1.]\n",
      " [1. 1.]\n",
      " [1. 1.]]\n",
      "Perturbed Profiles:\n",
      " [[1. 1.]\n",
      " [1. 1.]\n",
      " [1. 1.]\n",
      " [1. 1.]\n",
      " [1. 1.]\n",
      " [1. 1.]\n",
      " [1. 1.]\n",
      " [1. 1.]\n",
      " [1. 1.]\n",
      " [1. 1.]]\n",
      "Transformation Parameters:\n",
      " {ZeroMeasurements(alpha=None, beta=None, f_zero=0.05, k_max=10, tail_eps=0.1, per_column_independent=True): {'zero_mask': array([[False, False],\n",
      "       [False, False],\n",
      "       [False, False],\n",
      "       [False, False],\n",
      "       [False, False],\n",
      "       [False, False],\n",
      "       [False, False],\n",
      "       [False, False],\n",
      "       [False, False],\n",
      "       [False, False]]), 'alpha': 0.010824829751353607, 'beta': 0.2056717652757185, 'f_zero_implied': 0.0, 'run_stats': {'n_runs_per_column': [0, 0], 'run_lengths_per_column': [[], []]}, 'shape': (10, 2), 'per_column_independent': True}}\n"
     ]
    }
   ],
   "source": [
    "\n",
    "#gaussian_noise = MultiplicativeGaussianNoise(mean=0.0, std=0.01, seed=42)\n",
    "pipeline = Pipeline([pert])\n",
    "\n",
    "perturbed_profiles = pipeline.perturb(profiles)\n",
    "print(\"Original Profiles:\\n\", profiles)\n",
    "print(\"Perturbed Profiles:\\n\", perturbed_profiles)\n",
    "\n",
    "print(\"Transformation Parameters:\\n\", pipeline.get_transformations())"
   ]
  }
 ],
 "metadata": {
  "kernelspec": {
   "display_name": ".venv",
   "language": "python",
   "name": "python3"
  },
  "language_info": {
   "codemirror_mode": {
    "name": "ipython",
    "version": 3
   },
   "file_extension": ".py",
   "mimetype": "text/x-python",
   "name": "python",
   "nbconvert_exporter": "python",
   "pygments_lexer": "ipython3",
   "version": "3.12.3"
  }
 },
 "nbformat": 4,
 "nbformat_minor": 2
}
