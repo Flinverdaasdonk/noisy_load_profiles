{
 "cells": [
  {
   "cell_type": "markdown",
   "metadata": {},
   "source": [
    "## Overview\n",
    "\n",
    "Here we demo the basic operation of the `noisy load profiles` package. recall that the goal is to add realistic noise to a given load profile.\n",
    "\n",
    "We do this by choosing various `Perturbation` which are sources of noise, such as `MultiplicativeGaussianNoise` or `'PercentualDeadBand'`. \n",
    "\n",
    "These `Perturbations` are added to a `Pipeline` object. This Pipeline is than applied to a given matrix of load profiles. \n",
    "\n",
    "NOTE: we always assume rows = time and columns = measurement devices"
   ]
  },
  {
   "cell_type": "code",
   "execution_count": 23,
   "metadata": {},
   "outputs": [],
   "source": [
    "import noisy_load_profiles as nolp\n",
    "from noisy_load_profiles import Pipeline\n",
    "from noisy_load_profiles.perturbations import MultiplicativeGaussianNoise, ZeroMeasurements\n",
    "import numpy as np"
   ]
  },
  {
   "cell_type": "code",
   "execution_count": 24,
   "metadata": {},
   "outputs": [
    {
     "name": "stdout",
     "output_type": "stream",
     "text": [
      "All available perturbations:\n",
      "  AdditiveOUNoise\n",
      "  ConstantRandomPercentualBias\n",
      "  ConstantRandomPercentualScaling\n",
      "  DiscreteTimeShift\n",
      "  MultiplicativeGaussianNoise\n",
      "  PercentualDeadBand\n",
      "  ZeroMeasurements\n"
     ]
    }
   ],
   "source": [
    "print(\"All available perturbations:\")\n",
    "available_perturbations = dir(nolp.perturbations)\n",
    "available_perturbations = [p for p in available_perturbations if not p.startswith('_')]  # remove dunder methods such as __builtins__\n",
    "available_perturbations = [p for p in available_perturbations if p not in ['measurement', 'random', 'systematic']]  ## filter out non-perturbation classes\n",
    "\n",
    "for p in available_perturbations:\n",
    "    print(f\"  {p}\")"
   ]
  },
  {
   "cell_type": "markdown",
   "metadata": {},
   "source": [
    "## Example of a simple Pipeline"
   ]
  },
  {
   "cell_type": "code",
   "execution_count": 5,
   "metadata": {},
   "outputs": [
    {
     "name": "stdout",
     "output_type": "stream",
     "text": [
      "Original profiles:\n",
      "[1. 1.]\n",
      "Perturbed profiles:\n",
      "[1.00496714 0.99861736]\n"
     ]
    }
   ],
   "source": [
    "# built a profiles\n",
    "timesteps = 10\n",
    "n_profiles = 2\n",
    "profiles = np.ones((timesteps, n_profiles)) # 2 profiles with 10 timesteps each; example\n",
    "\n",
    "\n",
    "# initialize a perturbation\n",
    "gaussian_noise = MultiplicativeGaussianNoise(mean=0.0, std=0.01, seed=42)\n",
    "\n",
    "# add a perturbation to a pipeline\n",
    "pipeline = Pipeline([gaussian_noise])\n",
    "\n",
    "\n",
    "# apply the perturbation to the profiles\n",
    "perturbed_profiles = pipeline.apply(profiles)\n",
    "\n",
    "\n",
    "# print the first row of both profiles\n",
    "print(\"Original profiles:\")\n",
    "print(profiles[0, :])\n",
    "\n",
    "print(\"Perturbed profiles:\")\n",
    "print(perturbed_profiles[0, :])"
   ]
  },
  {
   "cell_type": "code",
   "execution_count": 7,
   "metadata": {},
   "outputs": [
    {
     "name": "stdout",
     "output_type": "stream",
     "text": [
      "Transformations:\n"
     ]
    },
    {
     "data": {
      "text/plain": [
       "{MultiplicativeGaussianNoise(mean=0.0, std=0.01): {'noise_samples': array([[ 0.00496714, -0.00138264],\n",
       "         [ 0.00647689,  0.0152303 ],\n",
       "         [-0.00234153, -0.00234137],\n",
       "         [ 0.01579213,  0.00767435],\n",
       "         [-0.00469474,  0.0054256 ],\n",
       "         [-0.00463418, -0.0046573 ],\n",
       "         [ 0.00241962, -0.0191328 ],\n",
       "         [-0.01724918, -0.00562288],\n",
       "         [-0.01012831,  0.00314247],\n",
       "         [-0.00908024, -0.01412304]]),\n",
       "  'mean': 0.0,\n",
       "  'std': 0.01,\n",
       "  'shape': (10, 2)}}"
      ]
     },
     "execution_count": 7,
     "metadata": {},
     "output_type": "execute_result"
    }
   ],
   "source": [
    "# you can also find the transformations of each perturbation\n",
    "print(\"Transformations:\")\n",
    "pipeline.get_transformations()"
   ]
  },
  {
   "cell_type": "markdown",
   "metadata": {},
   "source": [
    "## Longer pipeline"
   ]
  },
  {
   "cell_type": "code",
   "execution_count": 17,
   "metadata": {},
   "outputs": [
    {
     "name": "stdout",
     "output_type": "stream",
     "text": [
      "Help on class ZeroMeasurements in module noisy_load_profiles.perturbations.measurement:\n",
      "\n",
      "class ZeroMeasurements(noisy_load_profiles.base.Perturbation)\n",
      " |  ZeroMeasurements(f_zero: Optional[float] = None, k_max: Optional[int] = None, tail_eps: float = 0.1, alpha: Optional[float] = None, beta: Optional[float] = None, per_column_independent: bool = True, seed: Optional[int] = None, transformation: Optional[Dict[str, Any]] = None, track_input_profiles: bool = False)\n",
      " |\n",
      " |  Put Simply, this sometimes sets a measurements to zero, simulating an outage or a measurement error.\n",
      " |\n",
      " |  This is done using a 2-state Markov Model\n",
      " |\n",
      " |  States:\n",
      " |      0 = normal\n",
      " |      1 = zero/outage\n",
      " |\n",
      " |  Parameters\n",
      " |  ----------\n",
      " |  f_zero : float, optional\n",
      " |      Target long-run fraction of zeros, in (0, 1). Used to derive (alpha, beta)\n",
      " |      together with (k_max, tail_eps).\n",
      " |  k_max : int, optional\n",
      " |      \"Likely maximum\" run length. Together with tail_eps, sets beta via\n",
      " |      P(L > k_max) = tail_eps for geometric run length.\n",
      " |  tail_eps : float, default 0.1\n",
      " |      Overflow probability for the likely-maximum definition.\n",
      " |\n",
      " |\n",
      " |  alpha : float, optional\n",
      " |      P(enter zero state | currently normal). Must be in (0, 1).\n",
      " |      If not provided, it is derived from (f_zero, k_max, tail_eps).\n",
      " |  beta : float, optional\n",
      " |      P(exit zero state | currently zero). Must be in (0, 1).\n",
      " |      If not provided, it is derived from (f_zero, k_max, tail_eps).\n",
      " |\n",
      " |\n",
      " |  per_column_independent : bool, default True\n",
      " |      If True, each column gets its own independent Markov path (same alpha/beta).\n",
      " |      If False, a single path is generated and applied to all columns.\n",
      " |  seed : int, optional\n",
      " |      Random seed for reproducibility.\n",
      " |  transformation : dict, optional\n",
      " |      Precomputed transformation that contains a 'zero_mask' of shape (T, C).\n",
      " |\n",
      " |  Stored transformation\n",
      " |  ---------------------\n",
      " |  {\n",
      " |      'zero_mask': np.ndarray bool (T, C),\n",
      " |      'alpha': float,\n",
      " |      'beta': float,\n",
      " |      'f_zero_implied': float,\n",
      " |      'run_stats': {\n",
      " |          'n_runs_per_column': List[int],\n",
      " |          'run_lengths_per_column': List[List[int]],\n",
      " |      },\n",
      " |      'shape': (T, C),\n",
      " |      'per_column_independent': bool\n",
      " |  }\n",
      " |\n",
      " |  Method resolution order:\n",
      " |      ZeroMeasurements\n",
      " |      noisy_load_profiles.base.Perturbation\n",
      " |      abc.ABC\n",
      " |      builtins.object\n",
      " |\n",
      " |  Methods defined here:\n",
      " |\n",
      " |  __init__(self, f_zero: Optional[float] = None, k_max: Optional[int] = None, tail_eps: float = 0.1, alpha: Optional[float] = None, beta: Optional[float] = None, per_column_independent: bool = True, seed: Optional[int] = None, transformation: Optional[Dict[str, Any]] = None, track_input_profiles: bool = False)\n",
      " |      Initialize the perturbation.\n",
      " |\n",
      " |      Parameters:\n",
      " |      -----------\n",
      " |      seed : int, optional\n",
      " |          Random seed for reproducibility\n",
      " |      transformation : Dict[str, Any], optional\n",
      " |          Pre-computed transformation parameters. If provided, this transformation\n",
      " |          will be used instead of inferring from data.\n",
      " |\n",
      " |  ----------------------------------------------------------------------\n",
      " |  Static methods defined here:\n",
      " |\n",
      " |  pick_alpha_beta_from_targets(f_zero: float, k_max: int, tail_eps: float) -> Tuple[float, float]\n",
      " |      Compute (alpha, beta) from intuitive targets:\n",
      " |\n",
      " |      - Choose beta so that P(L > k_max) = tail_eps for geometric run length:\n",
      " |            P(L > k) = (1 - beta)^k  =>  beta = 1 - tail_eps^(1/k_max)\n",
      " |      - Choose alpha to match long-run zero fraction:\n",
      " |            f_zero = alpha / (alpha + beta)  =>  alpha = f_zero * beta / (1 - f_zero)\n",
      " |\n",
      " |  ----------------------------------------------------------------------\n",
      " |  Data and other attributes defined here:\n",
      " |\n",
      " |  __abstractmethods__ = frozenset()\n",
      " |\n",
      " |  ----------------------------------------------------------------------\n",
      " |  Methods inherited from noisy_load_profiles.base.Perturbation:\n",
      " |\n",
      " |  __repr__(self) -> str\n",
      " |      String representation of the perturbation.\n",
      " |\n",
      " |  apply(self, profiles: numpy.ndarray) -> numpy.ndarray\n",
      " |      Apply the perturbation to the input profiles.\n",
      " |\n",
      " |      Parameters:\n",
      " |      -----------\n",
      " |      profiles : np.ndarray\n",
      " |          2D array where each column is a load profile, each row is a timestep\n",
      " |\n",
      " |      Returns:\n",
      " |      --------\n",
      " |      np.ndarray\n",
      " |          Perturbed profiles with same shape as input\n",
      " |\n",
      " |  get_transformation(self) -> Optional[Dict[str, Any]]\n",
      " |      Get the transformation parameters that were inferred/applied.\n",
      " |\n",
      " |      Returns:\n",
      " |      --------\n",
      " |      Dict[str, Any] or None\n",
      " |          Dictionary containing transformation parameters, or None if not applied yet\n",
      " |\n",
      " |  reset(self) -> None\n",
      " |      Reset the perturbation state, clearing transformation parameters.\n",
      " |\n",
      " |  set_seed(self, seed: int) -> None\n",
      " |      Set or change the random seed.\n",
      " |\n",
      " |      Parameters:\n",
      " |      -----------\n",
      " |      seed : int\n",
      " |          New random seed\n",
      " |\n",
      " |  set_transformation(self, transformation: numpy.ndarray) -> None\n",
      " |\n",
      " |  ----------------------------------------------------------------------\n",
      " |  Readonly properties inherited from noisy_load_profiles.base.Perturbation:\n",
      " |\n",
      " |  config\n",
      " |      Get the configuration parameters used to initialize this perturbation.\n",
      " |\n",
      " |      Returns:\n",
      " |      --------\n",
      " |      Dict[str, Any]\n",
      " |          Dictionary containing initialization parameters\n",
      " |\n",
      " |  ----------------------------------------------------------------------\n",
      " |  Data descriptors inherited from noisy_load_profiles.base.Perturbation:\n",
      " |\n",
      " |  __dict__\n",
      " |      dictionary for instance variables\n",
      " |\n",
      " |  __weakref__\n",
      " |      list of weak references to the object\n",
      "\n"
     ]
    }
   ],
   "source": [
    "help(nolp.perturbations.ZeroMeasurements)"
   ]
  },
  {
   "cell_type": "code",
   "execution_count": 19,
   "metadata": {},
   "outputs": [],
   "source": [
    "# built a profiles\n",
    "timesteps = 10\n",
    "n_profiles = 2\n",
    "profiles = np.ones((timesteps, n_profiles)) # 2 profiles with 10 timesteps each; example\n",
    "\n",
    "\n",
    "# initialize a perturbation\n",
    "ou_noise = nolp.perturbations.AdditiveOUNoise(seed=42)\n",
    "deadband = nolp.perturbations.PercentualDeadBand(seed=42)\n",
    "zeros = nolp.perturbations.ZeroMeasurements(f_zero=0.2, k_max=3, seed=42)\n",
    "\n",
    "# make the pipeline\n",
    "pipeline = Pipeline([ou_noise, deadband, zeros])\n",
    "\n",
    "# apply the perturbation to the profiles\n",
    "perturbed_profiles = pipeline.apply(profiles)"
   ]
  },
  {
   "cell_type": "code",
   "execution_count": 20,
   "metadata": {},
   "outputs": [
    {
     "data": {
      "text/plain": [
       "array([[1.        , 0.        ],\n",
       "       [1.02483571, 0.        ],\n",
       "       [1.04480228, 0.        ],\n",
       "       [1.01069347, 1.02464059],\n",
       "       [1.08430738, 1.05069203],\n",
       "       [1.01867997, 1.05069203],\n",
       "       [0.        , 1.00295052],\n",
       "       [0.        , 0.90581125],\n",
       "       [0.        , 0.92479125],\n",
       "       [0.        , 0.97810799]])"
      ]
     },
     "execution_count": 20,
     "metadata": {},
     "output_type": "execute_result"
    }
   ],
   "source": [
    "perturbed_profiles"
   ]
  },
  {
   "cell_type": "code",
   "execution_count": null,
   "metadata": {},
   "outputs": [],
   "source": []
  }
 ],
 "metadata": {
  "kernelspec": {
   "display_name": ".venv",
   "language": "python",
   "name": "python3"
  },
  "language_info": {
   "codemirror_mode": {
    "name": "ipython",
    "version": 3
   },
   "file_extension": ".py",
   "mimetype": "text/x-python",
   "name": "python",
   "nbconvert_exporter": "python",
   "pygments_lexer": "ipython3",
   "version": "3.12.3"
  }
 },
 "nbformat": 4,
 "nbformat_minor": 2
}
