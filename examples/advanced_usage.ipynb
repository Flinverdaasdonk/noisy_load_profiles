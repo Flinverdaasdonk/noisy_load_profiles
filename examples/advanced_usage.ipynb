{
 "cells": [
  {
   "cell_type": "markdown",
   "metadata": {},
   "source": [
    "## Overview\n",
    "\n",
    "Here we demo more nitty gritty use of `noisy load profiles`."
   ]
  },
  {
   "cell_type": "code",
   "execution_count": 1,
   "metadata": {},
   "outputs": [],
   "source": [
    "import noisy_load_profiles as nolp\n",
    "from noisy_load_profiles import Pipeline\n",
    "from noisy_load_profiles.perturbations import MultiplicativeGaussianNoise, ZeroMeasurements\n",
    "import numpy as np"
   ]
  },
  {
   "cell_type": "markdown",
   "metadata": {},
   "source": [
    "## Finding which Perturbation added what noise"
   ]
  },
  {
   "cell_type": "code",
   "execution_count": 3,
   "metadata": {},
   "outputs": [],
   "source": [
    "# built a profiles\n",
    "timesteps = 10\n",
    "n_profiles = 2\n",
    "profiles = np.ones((timesteps, n_profiles)) # 2 profiles with 10 timesteps each; example\n",
    "\n",
    "\n",
    "# initialize a perturbation\n",
    "ou_noise = nolp.perturbations.AdditiveOUNoise(seed=42)\n",
    "deadband = nolp.perturbations.PercentualDeadBand(seed=42)\n",
    "zeros = nolp.perturbations.ZeroMeasurements(f_zero=0.2, k_max=3, seed=42)\n",
    "\n",
    "# make the pipeline\n",
    "pipeline = Pipeline([ou_noise, deadband, zeros])\n"
   ]
  },
  {
   "cell_type": "code",
   "execution_count": 4,
   "metadata": {},
   "outputs": [],
   "source": [
    "pipeline.track_perturbation_process(True)"
   ]
  },
  {
   "cell_type": "code",
   "execution_count": 5,
   "metadata": {},
   "outputs": [],
   "source": [
    "\n",
    "# apply the perturbation to the profiles\n",
    "perturbed_profiles = pipeline.apply(profiles)"
   ]
  },
  {
   "cell_type": "code",
   "execution_count": 6,
   "metadata": {},
   "outputs": [],
   "source": [
    "for perturbation in pipeline:\n",
    "    ..."
   ]
  },
  {
   "cell_type": "code",
   "execution_count": 7,
   "metadata": {},
   "outputs": [
    {
     "data": {
      "text/plain": [
       "ZeroMeasurements(alpha=None, beta=None, f_zero=0.2, k_max=3, tail_eps=0.1, per_column_independent=True)"
      ]
     },
     "execution_count": 7,
     "metadata": {},
     "output_type": "execute_result"
    }
   ],
   "source": [
    "perturbation"
   ]
  },
  {
   "cell_type": "code",
   "execution_count": null,
   "metadata": {},
   "outputs": [],
   "source": []
  }
 ],
 "metadata": {
  "kernelspec": {
   "display_name": ".venv",
   "language": "python",
   "name": "python3"
  },
  "language_info": {
   "codemirror_mode": {
    "name": "ipython",
    "version": 3
   },
   "file_extension": ".py",
   "mimetype": "text/x-python",
   "name": "python",
   "nbconvert_exporter": "python",
   "pygments_lexer": "ipython3",
   "version": "3.12.3"
  }
 },
 "nbformat": 4,
 "nbformat_minor": 2
}
