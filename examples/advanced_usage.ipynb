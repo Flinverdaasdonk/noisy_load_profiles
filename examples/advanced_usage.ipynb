{
 "cells": [
  {
   "cell_type": "markdown",
   "metadata": {},
   "source": [
    "## Overview\n",
    "\n",
    "Here we demo more nitty gritty use of `noisy load profiles`."
   ]
  },
  {
   "cell_type": "code",
   "execution_count": 1,
   "metadata": {},
   "outputs": [],
   "source": [
    "from noisy_load_profiles import Pipeline, perturbations\n",
    "import numpy as np"
   ]
  },
  {
   "cell_type": "markdown",
   "metadata": {},
   "source": [
    "## Finding which Perturbation added what noise"
   ]
  },
  {
   "cell_type": "code",
   "execution_count": 2,
   "metadata": {},
   "outputs": [],
   "source": [
    "# built a profiles\n",
    "timesteps = 10\n",
    "n_profiles = 2\n",
    "profiles = np.ones((timesteps, n_profiles)) # 2 profiles with 10 timesteps each; example\n",
    "\n",
    "\n",
    "# initialize a perturbation\n",
    "ou_noise = perturbations.AdditiveOUNoise(seed=42)\n",
    "deadband = perturbations.PercentualDeadBand(seed=42)\n",
    "zeros = perturbations.ZeroMeasurements(f_zero=0.2, k_max=3, seed=42)\n",
    "\n",
    "# make the pipeline\n",
    "pipeline = Pipeline([ou_noise, deadband, zeros])\n"
   ]
  },
  {
   "cell_type": "code",
   "execution_count": 3,
   "metadata": {},
   "outputs": [],
   "source": [
    "pipeline.track_perturbation_process(True)"
   ]
  },
  {
   "cell_type": "code",
   "execution_count": 4,
   "metadata": {},
   "outputs": [],
   "source": [
    "\n",
    "# apply the perturbation to the profiles\n",
    "perturbed_profiles = pipeline.apply(profiles)"
   ]
  },
  {
   "cell_type": "code",
   "execution_count": 5,
   "metadata": {},
   "outputs": [
    {
     "name": "stdout",
     "output_type": "stream",
     "text": [
      "AdditiveOUNoise(theta=0.5, mu=0.0, sigma=0.05, dt=1.0, per_column_independent=True, eps_scale=1e-12)\n",
      "Input profiles up to 3rd row\n",
      "[[1. 1.]\n",
      " [1. 1.]\n",
      " [1. 1.]]\n",
      "PercentualDeadBand(initial_deviation=0.01, timesteps=4, eps_den=1e-12)\n",
      "Input profiles up to 3rd row\n",
      "[[1.         1.        ]\n",
      " [1.02483571 0.99308678]\n",
      " [1.04480228 1.07269489]]\n",
      "ZeroMeasurements(alpha=None, beta=None, f_zero=0.2, k_max=3, tail_eps=0.1, per_column_independent=True)\n",
      "Input profiles up to 3rd row\n",
      "[[1.         1.        ]\n",
      " [1.02483571 1.        ]\n",
      " [1.04480228 1.07269489]]\n"
     ]
    }
   ],
   "source": [
    "# you can iterate through the perturbations in the pipeline\n",
    "for perturbation in pipeline:\n",
    "\n",
    "    # printing the perturbation object gives you information about the perturbation\n",
    "    print(perturbation)\n",
    "\n",
    "    # you can extract the profile used as input to the perturbation\n",
    "    print(\"Input profiles up to 3rd row\")\n",
    "    perturbation_input = perturbation.input_profiles\n",
    "\n",
    "    print(perturbation_input[:3])"
   ]
  }
 ],
 "metadata": {
  "kernelspec": {
   "display_name": ".venv",
   "language": "python",
   "name": "python3"
  },
  "language_info": {
   "codemirror_mode": {
    "name": "ipython",
    "version": 3
   },
   "file_extension": ".py",
   "mimetype": "text/x-python",
   "name": "python",
   "nbconvert_exporter": "python",
   "pygments_lexer": "ipython3",
   "version": "3.12.3"
  }
 },
 "nbformat": 4,
 "nbformat_minor": 2
}
